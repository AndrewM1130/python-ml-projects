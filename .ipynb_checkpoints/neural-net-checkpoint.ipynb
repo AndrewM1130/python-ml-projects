{
 "cells": [
  {
   "cell_type": "markdown",
   "metadata": {},
   "source": [
    "## On the Practicality of Neural Nets for Time Series Regression"
   ]
  },
  {
   "cell_type": "code",
   "execution_count": 1,
   "metadata": {},
   "outputs": [],
   "source": [
    "import numpy as np\n",
    "import pandas as pd\n",
    "pd.options.mode.chained_assignment = None\n",
    "import math \n",
    "import matplotlib.pyplot as plt\n",
    "%matplotlib inline\n",
    "\n",
    "from sklearn.impute import SimpleImputer\n",
    "from sklearn.model_selection import train_test_split\n",
    "from sklearn import preprocessing\n",
    "from sklearn.preprocessing import MinMaxScaler\n",
    "from statsmodels.graphics.tsaplots import plot_acf,plot_pacf\n",
    "\n",
    "import tensorflow as tf\n",
    "from tensorflow import keras\n",
    "from tensorflow.keras import layers\n",
    "\n",
    "import warnings\n",
    "warnings.filterwarnings('ignore')"
   ]
  },
  {
   "cell_type": "markdown",
   "metadata": {},
   "source": [
    "## Introduction\n",
    "\n",
    "## Data"
   ]
  },
  {
   "cell_type": "code",
   "execution_count": null,
   "metadata": {},
   "outputs": [],
   "source": []
  },
  {
   "cell_type": "markdown",
   "metadata": {},
   "source": [
    "## Data Preprocessing & Cleaning"
   ]
  },
  {
   "cell_type": "code",
   "execution_count": 2,
   "metadata": {},
   "outputs": [],
   "source": [
    "## import & concat out three housing datasets\n",
    "path = '/Users/andrewma/Desktop/Stat-Notes/data/'\n",
    "df = pd.concat(map(pd.read_csv, [path + 'texas_counties1.csv', path + 'texas_counties2.csv', path + 'texas_counties3.csv']))\n",
    "\n",
    "#remove 2 rows of NaN in 'sales','dollar_vol','avg_price','med_price']\n",
    "df.columns[df.isna().any()].tolist()\n",
    "df.loc[:, df.isnull().any()]\n",
    "df = df[-df['sales'].isna()]\n",
    "df.head(5)\n",
    "\n",
    "## clean up commas & convert strings to float\n",
    "str_cols = ['sales', 'dollar_vol', 'avg_price', 'med_price', 'total_listings']\n",
    "df[str_cols] = df[str_cols].replace(',', '', regex=True)\n",
    "df[str_cols] = df[str_cols].apply(pd.to_numeric, errors='coerce')\n",
    "#remove 'Unnamed:0' column as it simply is another index for the month\n",
    "df = df.drop(columns='Unnamed: 0')\n",
    "\n",
    "#convert date column to datetime format & sort\n",
    "df['date'] = pd.to_datetime(df['date'])"
   ]
  },
  {
   "cell_type": "code",
   "execution_count": 3,
   "metadata": {},
   "outputs": [],
   "source": [
    "## clean dataset & impute missing values \n",
    "## impute missing values with probabilistic mean PCA\n",
    "df.fillna(1, inplace=True)\n",
    "\n",
    "## pop the two coluumns which contain ~2k missing values\n",
    "total = df['total_listings'].values.reshape(1, -1)\n",
    "month = df['month_inventory'].values.reshape(1, -1)\n",
    "\n",
    "## implementation of SimpleImputer model \n",
    "imp_mean = SimpleImputer(missing_values = 1, strategy='mean')\n",
    "imp_mean.fit(month); imp_mean.transform(month)\n",
    "imp_mean.fit(total); imp_mean.transform(total)\n",
    "\n",
    "month_filler = np.transpose(pd.DataFrame(imp_mean.transform(month)))\n",
    "total_filler = np.transpose(pd.DataFrame(imp_mean.transform(total)))\n",
    "df['total_listings'] = total_filler\n",
    "df['month_inventory'] = month_filler\n",
    "\n",
    "## predefine features & labels\n",
    "features = ['dollar_vol','avg_price','med_price','total_listings','month_inventory']\n",
    "target = ['sales']"
   ]
  },
  {
   "cell_type": "code",
   "execution_count": 4,
   "metadata": {},
   "outputs": [],
   "source": [
    "## normalize data as there is a large absolute difference between many of the predcitors which will result in \n",
    "## disproportionally large weights for some of the covariates \n",
    "minmax = MinMaxScaler()\n",
    "df[features] = minmax.fit_transform(df[features])\n",
    "\n",
    "## split into training & testing for Time series methods\n",
    "## test = ~20% of data consisting most recent dates, train = all other data\n",
    "#df.dropna()\n",
    "df = df.sort_values(by=['date'])\n",
    "df = df.dropna()\n",
    "\n",
    "X_train, X_test, y_train, y_test = train_test_split(df[features], df[target], test_size = 0.2)"
   ]
  },
  {
   "cell_type": "markdown",
   "metadata": {},
   "source": [
    "## Exploratory Visualizations"
   ]
  },
  {
   "cell_type": "code",
   "execution_count": null,
   "metadata": {},
   "outputs": [],
   "source": []
  },
  {
   "cell_type": "markdown",
   "metadata": {},
   "source": [
    "## Basic Neural Net with One Covariate"
   ]
  },
  {
   "cell_type": "code",
   "execution_count": 6,
   "metadata": {},
   "outputs": [
    {
     "name": "stdout",
     "output_type": "stream",
     "text": [
      "Model: \"sequential\"\n",
      "_________________________________________________________________\n",
      " Layer (type)                Output Shape              Param #   \n",
      "=================================================================\n",
      " normalization (Normalizatio  (None, 1)                3         \n",
      " n)                                                              \n",
      "                                                                 \n",
      " dense (Dense)               (None, 1)                 2         \n",
      "                                                                 \n",
      "=================================================================\n",
      "Total params: 5\n",
      "Trainable params: 2\n",
      "Non-trainable params: 3\n",
      "_________________________________________________________________\n"
     ]
    }
   ],
   "source": [
    "## basic NN with one covariate(avg_price)\n",
    "avg = np.array(X_train['avg_price'])\n",
    "\n",
    "sales_normalizer = layers.Normalization(input_shape=[1,], axis=None)\n",
    "sales_normalizer.adapt(avg)\n",
    "sales_model = tf.keras.Sequential([\n",
    "    sales_normalizer,\n",
    "    layers.Dense(units=1)\n",
    "])\n",
    "sales_model.summary()\n",
    "\n",
    "#make predictions\n",
    "sales_model.predict(avg[:10])\n",
    "\n",
    "sales_model.compile(\n",
    "    optimizer=tf.optimizers.Adam(learning_rate=0.1),\n",
    "    loss='mean_absolute_error')"
   ]
  },
  {
   "cell_type": "code",
   "execution_count": 7,
   "metadata": {},
   "outputs": [
    {
     "data": {
      "text/html": [
       "<div>\n",
       "<style scoped>\n",
       "    .dataframe tbody tr th:only-of-type {\n",
       "        vertical-align: middle;\n",
       "    }\n",
       "\n",
       "    .dataframe tbody tr th {\n",
       "        vertical-align: top;\n",
       "    }\n",
       "\n",
       "    .dataframe thead th {\n",
       "        text-align: right;\n",
       "    }\n",
       "</style>\n",
       "<table border=\"1\" class=\"dataframe\">\n",
       "  <thead>\n",
       "    <tr style=\"text-align: right;\">\n",
       "      <th></th>\n",
       "      <th>loss</th>\n",
       "      <th>val_loss</th>\n",
       "      <th>epoch</th>\n",
       "    </tr>\n",
       "  </thead>\n",
       "  <tbody>\n",
       "    <tr>\n",
       "      <th>95</th>\n",
       "      <td>0.153745</td>\n",
       "      <td>0.155639</td>\n",
       "      <td>95</td>\n",
       "    </tr>\n",
       "    <tr>\n",
       "      <th>96</th>\n",
       "      <td>0.154305</td>\n",
       "      <td>0.153338</td>\n",
       "      <td>96</td>\n",
       "    </tr>\n",
       "    <tr>\n",
       "      <th>97</th>\n",
       "      <td>0.153076</td>\n",
       "      <td>0.153751</td>\n",
       "      <td>97</td>\n",
       "    </tr>\n",
       "    <tr>\n",
       "      <th>98</th>\n",
       "      <td>0.152623</td>\n",
       "      <td>0.152576</td>\n",
       "      <td>98</td>\n",
       "    </tr>\n",
       "    <tr>\n",
       "      <th>99</th>\n",
       "      <td>0.152704</td>\n",
       "      <td>0.153996</td>\n",
       "      <td>99</td>\n",
       "    </tr>\n",
       "  </tbody>\n",
       "</table>\n",
       "</div>"
      ],
      "text/plain": [
       "        loss  val_loss  epoch\n",
       "95  0.153745  0.155639     95\n",
       "96  0.154305  0.153338     96\n",
       "97  0.153076  0.153751     97\n",
       "98  0.152623  0.152576     98\n",
       "99  0.152704  0.153996     99"
      ]
     },
     "execution_count": 7,
     "metadata": {},
     "output_type": "execute_result"
    }
   ],
   "source": [
    "## save scores at each step\n",
    "history = sales_model.fit(\n",
    "    X_train['avg_price'],\n",
    "    X_train,\n",
    "    epochs=100,\n",
    "    # Suppress logging.\n",
    "    verbose=0,\n",
    "    # Calculate validation results on 20% of the training data.\n",
    "    validation_split = 0.2)\n",
    "\n",
    "hist = pd.DataFrame(history.history)\n",
    "hist['epoch'] = history.epoch\n",
    "hist.tail()"
   ]
  },
  {
   "cell_type": "code",
   "execution_count": 10,
   "metadata": {},
   "outputs": [
    {
     "data": {
      "image/png": "[encoded data removed]",
      "text/plain": [
       "<Figure size 432x288 with 1 Axes>"
      ]
     },
     "metadata": {
      "needs_background": "light"
     },
     "output_type": "display_data"
    }
   ],
   "source": [
    "## plot of squared error loss over epochs\n",
    "def plot_loss(history):\n",
    "  plt.plot(history.history['loss'], label='loss')\n",
    "  plt.plot(history.history['val_loss'], label='val_loss')\n",
    "  plt.ylim([-0.5, 0.5])\n",
    "  plt.xlabel('Epoch')\n",
    "  plt.ylabel('Error [sales]')\n",
    "  plt.legend()\n",
    "  plt.grid(True)\n",
    "\n",
    "plot_loss(history)"
   ]
  },
  {
   "cell_type": "markdown",
   "metadata": {},
   "source": [
    "## Neural Net with Multiple Covaraites"
   ]
  },
  {
   "cell_type": "code",
   "execution_count": 11,
   "metadata": {},
   "outputs": [],
   "source": [
    "## NN Linear Regression w/ Multiple Inputs\n",
    "normalizer = tf.keras.layers.Normalization(axis=-1)\n",
    "\n",
    "linear_model = tf.keras.Sequential([\n",
    "    normalizer,\n",
    "    layers.Dense(units=1)\n",
    "])\n",
    "\n",
    "linear_model.predict(X_train[:10])\n",
    "\n",
    "linear_model.layers[1].kernel\n",
    "\n",
    "linear_model.compile(\n",
    "    optimizer=tf.optimizers.Adam(learning_rate=0.1),\n",
    "    loss='mean_absolute_error')"
   ]
  },
  {
   "cell_type": "code",
   "execution_count": 12,
   "metadata": {},
   "outputs": [
    {
     "data": {
      "image/png": "[encoded data removed]",
      "text/plain": [
       "<Figure size 432x288 with 1 Axes>"
      ]
     },
     "metadata": {
      "needs_background": "light"
     },
     "output_type": "display_data"
    }
   ],
   "source": [
    "history = linear_model.fit(\n",
    "    X_train['avg_price'],\n",
    "    X_train,\n",
    "    epochs=100,\n",
    "    # Suppress logging.\n",
    "    verbose=0,\n",
    "    # Calculate validation results on 20% of the training data.\n",
    "    validation_split = 0.2)\n",
    "    \n",
    "plot_loss(history)"
   ]
  },
  {
   "cell_type": "code",
   "execution_count": 13,
   "metadata": {},
   "outputs": [],
   "source": [
    "## Deep Neural Net\n",
    "def build_and_compile_model(norm):\n",
    "  model = keras.Sequential([\n",
    "      norm,\n",
    "      layers.Dense(64, activation='relu'),\n",
    "      layers.Dense(64, activation='relu'),\n",
    "      layers.Dense(1)\n",
    "  ])\n",
    "\n",
    "  model.compile(loss='mean_absolute_error',\n",
    "                optimizer=tf.keras.optimizers.Adam(0.001))\n",
    "  return model"
   ]
  },
  {
   "cell_type": "markdown",
   "metadata": {},
   "source": [
    "## Bayesian Neural Net\n",
    "\n",
    "Bayesian Neural Nets"
   ]
  },
  {
   "cell_type": "code",
   "execution_count": null,
   "metadata": {},
   "outputs": [],
   "source": []
  },
  {
   "cell_type": "markdown",
   "metadata": {},
   "source": [
    "# Findings & Discussion"
   ]
  },
  {
   "cell_type": "markdown",
   "metadata": {},
   "source": [
    "# Conlusion"
   ]
  },
  {
   "cell_type": "markdown",
   "metadata": {},
   "source": [
    "# References"
   ]
  },
  {
   "cell_type": "code",
   "execution_count": null,
   "metadata": {},
   "outputs": [],
   "source": []
  }
 ],
 "metadata": {
  "kernelspec": {
   "display_name": "Python 3",
   "language": "python",
   "name": "python3"
  },
  "language_info": {
   "codemirror_mode": {
    "name": "ipython",
    "version": 3
   },
   "file_extension": ".py",
   "mimetype": "text/x-python",
   "name": "python",
   "nbconvert_exporter": "python",
   "pygments_lexer": "ipython3",
   "version": "3.8.3"
  }
 },
 "nbformat": 4,
 "nbformat_minor": 4
}
